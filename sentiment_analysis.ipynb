{
 "cells": [
  {
   "cell_type": "code",
   "execution_count": 493,
   "metadata": {},
   "outputs": [],
   "source": [
    "import tensorflow as tf\n",
    "import pandas as pd\n",
    "import numpy as np\n",
    "from tensorflow.keras.preprocessing.text import Tokenizer\n",
    "from tensorflow.keras.preprocessing.sequence import pad_sequences\n",
    "import matplotlib.image  as mpimg\n",
    "import matplotlib.pyplot as plt"
   ]
  },
  {
   "cell_type": "code",
   "execution_count": 494,
   "metadata": {},
   "outputs": [],
   "source": [
    "df=pd.read_csv('training_data.csv',encoding='unicode_escape')"
   ]
  },
  {
   "cell_type": "code",
   "execution_count": 485,
   "metadata": {
    "scrolled": true
   },
   "outputs": [
    {
     "data": {
      "text/html": [
       "<div>\n",
       "<style scoped>\n",
       "    .dataframe tbody tr th:only-of-type {\n",
       "        vertical-align: middle;\n",
       "    }\n",
       "\n",
       "    .dataframe tbody tr th {\n",
       "        vertical-align: top;\n",
       "    }\n",
       "\n",
       "    .dataframe thead th {\n",
       "        text-align: right;\n",
       "    }\n",
       "</style>\n",
       "<table border=\"1\" class=\"dataframe\">\n",
       "  <thead>\n",
       "    <tr style=\"text-align: right;\">\n",
       "      <th></th>\n",
       "      <th>Company</th>\n",
       "      <th>date</th>\n",
       "      <th>time</th>\n",
       "      <th>headline</th>\n",
       "      <th>Sentiment</th>\n",
       "    </tr>\n",
       "  </thead>\n",
       "  <tbody>\n",
       "    <tr>\n",
       "      <th>0</th>\n",
       "      <td>AAPL</td>\n",
       "      <td>Nov-11-20</td>\n",
       "      <td>08:00PM</td>\n",
       "      <td>Bye, Tariff Man. Bidens India Play Must Be Apps</td>\n",
       "      <td>1.0</td>\n",
       "    </tr>\n",
       "    <tr>\n",
       "      <th>1</th>\n",
       "      <td>AAPL</td>\n",
       "      <td>Nov-11-20</td>\n",
       "      <td>08:00PM</td>\n",
       "      <td>Dow Jones Stocks To Buy And Watch In November ...</td>\n",
       "      <td>1.0</td>\n",
       "    </tr>\n",
       "    <tr>\n",
       "      <th>2</th>\n",
       "      <td>AAPL</td>\n",
       "      <td>Nov-11-20</td>\n",
       "      <td>08:00PM</td>\n",
       "      <td>Stock Market Today: Big Tech Bounces Back</td>\n",
       "      <td>1.0</td>\n",
       "    </tr>\n",
       "    <tr>\n",
       "      <th>3</th>\n",
       "      <td>AAPL</td>\n",
       "      <td>Nov-11-20</td>\n",
       "      <td>08:00PM</td>\n",
       "      <td>Nasdaq Soars As Big Tech Bites Back; Dow Jones...</td>\n",
       "      <td>1.0</td>\n",
       "    </tr>\n",
       "    <tr>\n",
       "      <th>4</th>\n",
       "      <td>AAPL</td>\n",
       "      <td>Nov-11-20</td>\n",
       "      <td>08:00PM</td>\n",
       "      <td>Why Roku Stock Is Soaring Today</td>\n",
       "      <td>1.0</td>\n",
       "    </tr>\n",
       "    <tr>\n",
       "      <th>...</th>\n",
       "      <td>...</td>\n",
       "      <td>...</td>\n",
       "      <td>...</td>\n",
       "      <td>...</td>\n",
       "      <td>...</td>\n",
       "    </tr>\n",
       "    <tr>\n",
       "      <th>564</th>\n",
       "      <td>DBX</td>\n",
       "      <td>Jul-20-20</td>\n",
       "      <td>05:35PM</td>\n",
       "      <td>Why Dropbox Shot Nearly 10% Higher on Monday</td>\n",
       "      <td>1.0</td>\n",
       "    </tr>\n",
       "    <tr>\n",
       "      <th>565</th>\n",
       "      <td>DBX</td>\n",
       "      <td>Jul-20-20</td>\n",
       "      <td>05:35PM</td>\n",
       "      <td>Dropbox Shares Soar After Analyst Turns Positi...</td>\n",
       "      <td>1.0</td>\n",
       "    </tr>\n",
       "    <tr>\n",
       "      <th>566</th>\n",
       "      <td>DBX</td>\n",
       "      <td>Jul-20-20</td>\n",
       "      <td>05:35PM</td>\n",
       "      <td>Dropbox stock rises after Jefferies upgrade</td>\n",
       "      <td>1.0</td>\n",
       "    </tr>\n",
       "    <tr>\n",
       "      <th>567</th>\n",
       "      <td>DBX</td>\n",
       "      <td>Jul-08-20</td>\n",
       "      <td>03:02PM</td>\n",
       "      <td>Slack co-founder: We will be more aggressive w...</td>\n",
       "      <td>1.0</td>\n",
       "    </tr>\n",
       "    <tr>\n",
       "      <th>568</th>\n",
       "      <td>DBX</td>\n",
       "      <td>Jul-08-20</td>\n",
       "      <td>03:02PM</td>\n",
       "      <td>Why Dropbox Stock Climbed 21.6% in the First H...</td>\n",
       "      <td>1.0</td>\n",
       "    </tr>\n",
       "  </tbody>\n",
       "</table>\n",
       "<p>569 rows × 5 columns</p>\n",
       "</div>"
      ],
      "text/plain": [
       "    Company       date     time  \\\n",
       "0      AAPL  Nov-11-20  08:00PM   \n",
       "1      AAPL  Nov-11-20  08:00PM   \n",
       "2      AAPL  Nov-11-20  08:00PM   \n",
       "3      AAPL  Nov-11-20  08:00PM   \n",
       "4      AAPL  Nov-11-20  08:00PM   \n",
       "..      ...        ...      ...   \n",
       "564     DBX  Jul-20-20  05:35PM   \n",
       "565     DBX  Jul-20-20  05:35PM   \n",
       "566     DBX  Jul-20-20  05:35PM   \n",
       "567     DBX  Jul-08-20  03:02PM   \n",
       "568     DBX  Jul-08-20  03:02PM   \n",
       "\n",
       "                                              headline  Sentiment  \n",
       "0      Bye, Tariff Man. Bidens India Play Must Be Apps        1.0  \n",
       "1    Dow Jones Stocks To Buy And Watch In November ...        1.0  \n",
       "2            Stock Market Today: Big Tech Bounces Back        1.0  \n",
       "3    Nasdaq Soars As Big Tech Bites Back; Dow Jones...        1.0  \n",
       "4                      Why Roku Stock Is Soaring Today        1.0  \n",
       "..                                                 ...        ...  \n",
       "564       Why Dropbox Shot Nearly 10% Higher on Monday        1.0  \n",
       "565  Dropbox Shares Soar After Analyst Turns Positi...        1.0  \n",
       "566        Dropbox stock rises after Jefferies upgrade        1.0  \n",
       "567  Slack co-founder: We will be more aggressive w...        1.0  \n",
       "568  Why Dropbox Stock Climbed 21.6% in the First H...        1.0  \n",
       "\n",
       "[569 rows x 5 columns]"
      ]
     },
     "execution_count": 485,
     "metadata": {},
     "output_type": "execute_result"
    }
   ],
   "source": [
    "df"
   ]
  },
  {
   "cell_type": "code",
   "execution_count": 511,
   "metadata": {},
   "outputs": [],
   "source": [
    "df=df.fillna(0.0)"
   ]
  },
  {
   "cell_type": "code",
   "execution_count": 512,
   "metadata": {},
   "outputs": [],
   "source": [
    "train_data=df[['headline','Sentiment']]"
   ]
  },
  {
   "cell_type": "code",
   "execution_count": 513,
   "metadata": {},
   "outputs": [],
   "source": [
    "train_sentence=df['headline']\n",
    "train_label=df['Sentiment']"
   ]
  },
  {
   "cell_type": "code",
   "execution_count": 514,
   "metadata": {},
   "outputs": [],
   "source": [
    "from sklearn.model_selection import train_test_split\n",
    "\n",
    "X_train, X_val,y_train,y_val=train_test_split(train_sentence,train_label,test_size=0.2,random_state=55)"
   ]
  },
  {
   "cell_type": "code",
   "execution_count": 515,
   "metadata": {},
   "outputs": [],
   "source": [
    "max_length = 100\n",
    "\n",
    "tokenizer = Tokenizer(num_words = vocab_size, oov_token='<OOV>')\n",
    "tokenizer.fit_on_texts(X_train)\n",
    "word_index = tokenizer.word_index\n",
    "train_sequences = tokenizer.texts_to_sequences(X_train)\n",
    "train_padded = pad_sequences(train_sequences,maxlen=max_length, truncating='post')\n",
    "\n",
    "val_sequences = tokenizer.texts_to_sequences(X_val)\n",
    "val_padded = pad_sequences(val_sequences,maxlen=max_length)"
   ]
  },
  {
   "cell_type": "code",
   "execution_count": 516,
   "metadata": {},
   "outputs": [
    {
     "data": {
      "text/plain": [
       "1687"
      ]
     },
     "execution_count": 516,
     "metadata": {},
     "output_type": "execute_result"
    }
   ],
   "source": [
    "len(word_index)"
   ]
  },
  {
   "cell_type": "code",
   "execution_count": 517,
   "metadata": {},
   "outputs": [
    {
     "name": "stdout",
     "output_type": "stream",
     "text": [
      "Model: \"sequential_28\"\n",
      "_________________________________________________________________\n",
      "Layer (type)                 Output Shape              Param #   \n",
      "=================================================================\n",
      "embedding_28 (Embedding)     (None, 50, 20)            200000    \n",
      "_________________________________________________________________\n",
      "gru_48 (GRU)                 (None, 50, 128)           57600     \n",
      "_________________________________________________________________\n",
      "gru_49 (GRU)                 (None, 128)               99072     \n",
      "_________________________________________________________________\n",
      "dense_32 (Dense)             (None, 1)                 129       \n",
      "=================================================================\n",
      "Total params: 356,801\n",
      "Trainable params: 356,801\n",
      "Non-trainable params: 0\n",
      "_________________________________________________________________\n"
     ]
    }
   ],
   "source": [
    "model = tf.keras.Sequential([\n",
    "    tf.keras.layers.Embedding(10000, 20, input_length=50),\n",
    "    tf.keras.layers.GRU(128, return_sequences=True),\n",
    "    tf.keras.layers.GRU(128),\n",
    "#     tf.keras.layers.Dense(30, activation='relu'),\n",
    "    tf.keras.layers.Dense(1, activation='sigmoid')\n",
    "])\n",
    "model.compile(loss='binary_crossentropy',optimizer='adam',metrics=['accuracy'])\n",
    "model.summary()\n"
   ]
  },
  {
   "cell_type": "code",
   "execution_count": 518,
   "metadata": {},
   "outputs": [
    {
     "name": "stdout",
     "output_type": "stream",
     "text": [
      "Epoch 1/10\n",
      "WARNING:tensorflow:Model was constructed with shape (None, 50) for input Tensor(\"embedding_28_input:0\", shape=(None, 50), dtype=float32), but it was called on an input with incompatible shape (None, 100).\n",
      "WARNING:tensorflow:Model was constructed with shape (None, 50) for input Tensor(\"embedding_28_input:0\", shape=(None, 50), dtype=float32), but it was called on an input with incompatible shape (None, 100).\n",
      "15/15 [==============================] - ETA: 0s - loss: 0.6215 - accuracy: 0.7099WARNING:tensorflow:Model was constructed with shape (None, 50) for input Tensor(\"embedding_28_input:0\", shape=(None, 50), dtype=float32), but it was called on an input with incompatible shape (None, 100).\n",
      "15/15 [==============================] - 2s 128ms/step - loss: 0.6215 - accuracy: 0.7099 - val_loss: 0.6745 - val_accuracy: 0.6491\n",
      "Epoch 2/10\n",
      "15/15 [==============================] - 1s 84ms/step - loss: 0.6034 - accuracy: 0.7143 - val_loss: 0.6427 - val_accuracy: 0.6491\n",
      "Epoch 3/10\n",
      "15/15 [==============================] - 1s 84ms/step - loss: 0.5529 - accuracy: 0.7143 - val_loss: 0.6573 - val_accuracy: 0.6491\n",
      "Epoch 4/10\n",
      "15/15 [==============================] - 1s 85ms/step - loss: 0.3656 - accuracy: 0.8330 - val_loss: 1.0026 - val_accuracy: 0.6228\n",
      "Epoch 5/10\n",
      "15/15 [==============================] - 1s 88ms/step - loss: 0.1456 - accuracy: 0.9582 - val_loss: 0.8609 - val_accuracy: 0.6579\n",
      "Epoch 6/10\n",
      "15/15 [==============================] - 1s 85ms/step - loss: 0.0713 - accuracy: 0.9736 - val_loss: 1.4542 - val_accuracy: 0.6579\n",
      "Epoch 7/10\n",
      "15/15 [==============================] - 1s 85ms/step - loss: 0.0592 - accuracy: 0.9802 - val_loss: 1.0465 - val_accuracy: 0.6316\n",
      "Epoch 8/10\n",
      "15/15 [==============================] - 1s 84ms/step - loss: 0.0661 - accuracy: 0.9780 - val_loss: 1.3170 - val_accuracy: 0.6404\n",
      "Epoch 9/10\n",
      "15/15 [==============================] - 1s 83ms/step - loss: 0.0375 - accuracy: 0.9890 - val_loss: 1.6641 - val_accuracy: 0.6579\n",
      "Epoch 10/10\n",
      "15/15 [==============================] - 1s 83ms/step - loss: 0.0233 - accuracy: 0.9868 - val_loss: 1.6678 - val_accuracy: 0.6667\n"
     ]
    }
   ],
   "source": [
    "history=model.fit(train_padded, y_train, epochs=10, validation_data=(val_padded, y_val))"
   ]
  },
  {
   "cell_type": "code",
   "execution_count": 519,
   "metadata": {},
   "outputs": [
    {
     "data": {
      "text/plain": [
       "Text(0.5, 1.0, 'Training and validation loss')"
      ]
     },
     "execution_count": 519,
     "metadata": {},
     "output_type": "execute_result"
    },
    {
     "data": {
      "image/png": "[encoded data removed]",
      "text/plain": [
       "<Figure size 432x288 with 1 Axes>"
      ]
     },
     "metadata": {
      "needs_background": "light"
     },
     "output_type": "display_data"
    },
    {
     "data": {
      "image/png": "[encoded data removed]",
      "text/plain": [
       "<Figure size 432x288 with 1 Axes>"
      ]
     },
     "metadata": {
      "needs_background": "light"
     },
     "output_type": "display_data"
    }
   ],
   "source": [
    "# PLOT LOSS AND ACCURACY\n",
    "%matplotlib inline\n",
    "\n",
    "acc=history.history['accuracy']\n",
    "val_acc=history.history['val_accuracy']\n",
    "loss=history.history['loss']\n",
    "val_loss=history.history['val_loss']\n",
    "\n",
    "epochs=range(len(acc)) # Get number of epochs\n",
    "\n",
    "\n",
    "plt.plot(epochs, acc, 'r', \"Training Accuracy\")\n",
    "plt.plot(epochs, val_acc, 'b', \"Validation Accuracy\")\n",
    "plt.title('Training and validation accuracy')\n",
    "plt.figure()\n",
    "\n",
    "\n",
    "plt.plot(epochs, loss, 'r', \"Training Loss\")\n",
    "plt.plot(epochs, val_loss, 'b', \"Validation Loss\")\n",
    "\n",
    "\n",
    "plt.title('Training and validation loss')"
   ]
  },
  {
   "cell_type": "code",
   "execution_count": 520,
   "metadata": {},
   "outputs": [],
   "source": [
    "df2=pd.read_csv('news_headlines.csv',encoding='unicode_escape')"
   ]
  },
  {
   "cell_type": "code",
   "execution_count": 521,
   "metadata": {},
   "outputs": [],
   "source": [
    "X_test=df2['headline']"
   ]
  },
  {
   "cell_type": "code",
   "execution_count": 522,
   "metadata": {},
   "outputs": [],
   "source": [
    "test_sequences = tokenizer.texts_to_sequences(X_test)\n",
    "test_padded = pad_sequences(test_sequences,maxlen=max_length)"
   ]
  },
  {
   "cell_type": "code",
   "execution_count": 523,
   "metadata": {},
   "outputs": [
    {
     "data": {
      "text/plain": [
       "(93, 100)"
      ]
     },
     "execution_count": 523,
     "metadata": {},
     "output_type": "execute_result"
    }
   ],
   "source": [
    "test_padded.shape"
   ]
  },
  {
   "cell_type": "code",
   "execution_count": 524,
   "metadata": {},
   "outputs": [
    {
     "name": "stdout",
     "output_type": "stream",
     "text": [
      "WARNING:tensorflow:Model was constructed with shape (None, 50) for input Tensor(\"embedding_28_input:0\", shape=(None, 50), dtype=float32), but it was called on an input with incompatible shape (None, 100).\n"
     ]
    }
   ],
   "source": [
    "y_pred=model.predict(test_padded)"
   ]
  },
  {
   "cell_type": "code",
   "execution_count": 525,
   "metadata": {},
   "outputs": [],
   "source": [
    "y_pred=np.rint(y_pred)"
   ]
  },
  {
   "cell_type": "code",
   "execution_count": 526,
   "metadata": {},
   "outputs": [
    {
     "data": {
      "text/plain": [
       "array([[1.],\n",
       "       [0.],\n",
       "       [0.],\n",
       "       [1.],\n",
       "       [1.],\n",
       "       [1.],\n",
       "       [0.],\n",
       "       [1.],\n",
       "       [1.],\n",
       "       [0.],\n",
       "       [0.],\n",
       "       [1.],\n",
       "       [1.],\n",
       "       [1.],\n",
       "       [0.],\n",
       "       [1.],\n",
       "       [1.],\n",
       "       [1.],\n",
       "       [1.],\n",
       "       [1.],\n",
       "       [1.],\n",
       "       [1.],\n",
       "       [1.],\n",
       "       [0.],\n",
       "       [1.],\n",
       "       [1.],\n",
       "       [1.],\n",
       "       [1.],\n",
       "       [0.],\n",
       "       [0.],\n",
       "       [1.],\n",
       "       [1.],\n",
       "       [1.],\n",
       "       [1.],\n",
       "       [1.],\n",
       "       [1.],\n",
       "       [1.],\n",
       "       [1.],\n",
       "       [1.],\n",
       "       [1.],\n",
       "       [1.],\n",
       "       [0.],\n",
       "       [1.],\n",
       "       [0.],\n",
       "       [1.],\n",
       "       [1.],\n",
       "       [1.],\n",
       "       [1.],\n",
       "       [1.],\n",
       "       [1.],\n",
       "       [0.],\n",
       "       [1.],\n",
       "       [1.],\n",
       "       [1.],\n",
       "       [1.],\n",
       "       [1.],\n",
       "       [0.],\n",
       "       [1.],\n",
       "       [1.],\n",
       "       [1.],\n",
       "       [1.],\n",
       "       [1.],\n",
       "       [1.],\n",
       "       [1.],\n",
       "       [1.],\n",
       "       [1.],\n",
       "       [1.],\n",
       "       [1.],\n",
       "       [1.],\n",
       "       [1.],\n",
       "       [1.],\n",
       "       [1.],\n",
       "       [1.],\n",
       "       [1.],\n",
       "       [1.],\n",
       "       [0.],\n",
       "       [1.],\n",
       "       [1.],\n",
       "       [1.],\n",
       "       [1.],\n",
       "       [1.],\n",
       "       [1.],\n",
       "       [0.],\n",
       "       [1.],\n",
       "       [0.],\n",
       "       [1.],\n",
       "       [0.],\n",
       "       [0.],\n",
       "       [0.],\n",
       "       [1.],\n",
       "       [1.],\n",
       "       [1.],\n",
       "       [1.]], dtype=float32)"
      ]
     },
     "execution_count": 526,
     "metadata": {},
     "output_type": "execute_result"
    }
   ],
   "source": [
    "y_pred"
   ]
  }
 ],
 "metadata": {
  "kernelspec": {
   "display_name": "Python 3",
   "language": "python",
   "name": "python3"
  },
  "language_info": {
   "codemirror_mode": {
    "name": "ipython",
    "version": 3
   },
   "file_extension": ".py",
   "mimetype": "text/x-python",
   "name": "python",
   "nbconvert_exporter": "python",
   "pygments_lexer": "ipython3",
   "version": "3.7.6"
  }
 },
 "nbformat": 4,
 "nbformat_minor": 4
}
