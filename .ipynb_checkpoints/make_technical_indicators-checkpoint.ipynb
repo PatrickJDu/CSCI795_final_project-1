{
 "cells": [
  {
   "cell_type": "code",
   "execution_count": 1,
   "metadata": {},
   "outputs": [],
   "source": [
    "import pandas as pd\n",
    "import math\n",
    "import numpy as np"
   ]
  },
  {
   "cell_type": "code",
   "execution_count": 2,
   "metadata": {},
   "outputs": [],
   "source": [
    "df=pd.read_csv('AMD.csv')"
   ]
  },
  {
   "cell_type": "code",
   "execution_count": 4,
   "metadata": {},
   "outputs": [],
   "source": [
    "def indicator_process(dataset):\n",
    "    dataset['H-L']=dataset['High']-dataset['Low']\n",
    "    dataset['O-C']=dataset['Close']-dataset['Open']\n",
    "    dataset['H-O']=dataset['High']-dataset['Open']\n",
    "    dataset['O-L']=dataset['Open']-dataset['Low']"
   ]
  },
  {
   "cell_type": "code",
   "execution_count": 5,
   "metadata": {},
   "outputs": [],
   "source": [
    "indicator_process(df)"
   ]
  },
  {
   "cell_type": "code",
   "execution_count": null,
   "metadata": {},
   "outputs": [],
   "source": [
    "#Psychological Line\n",
    "def PSY(dataset,days):\n",
    "\n",
    "    df['Change'] = df['Close'].diff()\n",
    "    df['Change'] = df['Change'].fillna(0)\n",
    "    dataset=df\n",
    "    n=days\n",
    "    dataset['{} DAYS PSY'.format(n)]=0\n",
    "    dataset['tmp']=0\n",
    "    dataset.loc[dataset['Change'] > 0, 'tmp'] = 1\n",
    "    for i in range(len(dataset)):\n",
    "        dataset['{} DAYS PSY'.format(n)].iloc[i]=(dataset['tmp'].iloc[i+1-n:i+1].sum()/n)*100\n",
    "    dataset.drop(['Change','tmp'], axis=1,inplace=True)"
   ]
  },
  {
   "cell_type": "code",
   "execution_count": null,
   "metadata": {},
   "outputs": [],
   "source": [
    "PSY(df,6)"
   ]
  },
  {
   "cell_type": "code",
   "execution_count": null,
   "metadata": {},
   "outputs": [],
   "source": [
    "#Aroon (AR)\n",
    "def AR(dataset,days):\n",
    "    n=days\n",
    "    dataset['{} DAYS AR'.format(n)]=0\n",
    "    for i in range(len(dataset)):\n",
    "        dataset['{} DAYS AR'.format(n)].iloc[i]=dataset['H-O'].iloc[i+1-n:i+1].sum()/dataset['O-L'].iloc[i+1-n:i+1].sum()\n",
    "    df['{} DAYS AR'.format(n)] = df['{} DAYS AR'.format(n)].fillna(0)"
   ]
  },
  {
   "cell_type": "code",
   "execution_count": null,
   "metadata": {},
   "outputs": [],
   "source": [
    "AR(df,24)"
   ]
  },
  {
   "cell_type": "code",
   "execution_count": null,
   "metadata": {},
   "outputs": [],
   "source": [
    "#BR\n",
    "def BR(dataset,days):\n",
    "    #create two col for cal BR\n",
    "    dataset['dif_High_previousClose']=0\n",
    "    dataset['dif_previousClose_Low']=0\n",
    "    for i in range(len(dataset)):\n",
    "        dataset['dif_High_previousClose'].iloc[i]=dataset['High'].iloc[i]-dataset['Close'].iloc[i-1]\n",
    "        dataset['dif_previousClose_Low'].iloc[i]=dataset['Close'].iloc[i-1]-dataset['Low'].iloc[i]\n",
    "    dataset['dif_High_previousClose'].iloc[0]=0\n",
    "    dataset['dif_previousClose_Low'].iloc[0]=0\n",
    "    \n",
    "    \n",
    "#     #BR\n",
    "    n=days\n",
    "    dataset['{} DAYS BR'.format(n)]=0\n",
    "    for i in range(len(dataset)):\n",
    "        dataset['{} DAYS BR'.format(n)].iloc[i]=dataset['dif_High_previousClose'].iloc[i+1-n:i+1].sum()/dataset['dif_previousClose_Low'].iloc[i+1-n:i+1].sum()\n",
    "    df['{} DAYS BR'.format(n)] = df['{} DAYS BR'.format(n)].fillna(0)\n",
    "    dataset.drop(['dif_High_previousClose','dif_previousClose_Low'], axis=1,inplace=True)"
   ]
  },
  {
   "cell_type": "code",
   "execution_count": null,
   "metadata": {},
   "outputs": [],
   "source": [
    "BR(df,5)"
   ]
  },
  {
   "cell_type": "code",
   "execution_count": null,
   "metadata": {},
   "outputs": [],
   "source": [
    "#Williams rate (WMS)\n",
    "def WMS(dataset,days):\n",
    "    n=days\n",
    "    dataset['{} DAYS WMS'.format(n)]=0\n",
    "    for i in range(len(dataset)):\n",
    "        nHigh = dataset['High'].iloc[i+1-n:i+1].max()\n",
    "        nLow = dataset['Low'].iloc[i+1-n:i+1].min()\n",
    "        dataset['{} DAYS WMS'.format(n)].iloc[i]=(nHigh-dataset['Close'].iloc[i])/(nHigh-nLow)*100\n",
    "    df['{} DAYS WMS'.format(n)] = df['{} DAYS WMS'.format(n)].fillna(0)\n"
   ]
  },
  {
   "cell_type": "code",
   "execution_count": null,
   "metadata": {},
   "outputs": [],
   "source": [
    "WMS(df,6)"
   ]
  },
  {
   "cell_type": "code",
   "execution_count": null,
   "metadata": {},
   "outputs": [],
   "source": [
    "#https://www.investopedia.com/terms/m/movingaverage.asp\n",
    "def MA(dataset,days):\n",
    "    n=days\n",
    "    dataset['{} DAYS MA'.format(n)]=0\n",
    "    for i in range(len(dataset)):\n",
    "        dataset['{} DAYS MA'.format(n)].iloc[i]=sum(dataset['Close'].iloc[i-n:i])/n"
   ]
  },
  {
   "cell_type": "code",
   "execution_count": null,
   "metadata": {},
   "outputs": [],
   "source": [
    "#https://www.fidelity.com/learning-center/trading-investing/technical-analysis/technical-indicator-guide/standard-deviation\n",
    "import math\n",
    "def std_dev(dataset,days):\n",
    "    n=days\n",
    "    dataset['{} DAYS STD DEV'.format(days)]=0\n",
    "    dataset['sq(C-MA)']=(dataset['Close']-dataset['{} DAYS MA'.format(n)])**2\n",
    "    for i in range(len(dataset)):\n",
    "        dataset['{} DAYS STD DEV'.format(n)].iloc[i]=math.sqrt(sum(dataset['sq(C-MA)'].iloc[i-n:i])/n)\n",
    "    dataset.drop('sq(C-MA)', axis=1,inplace=True)"
   ]
  }
 ],
 "metadata": {
  "kernelspec": {
   "display_name": "Python 3",
   "language": "python",
   "name": "python3"
  },
  "language_info": {
   "codemirror_mode": {
    "name": "ipython",
    "version": 3
   },
   "file_extension": ".py",
   "mimetype": "text/x-python",
   "name": "python",
   "nbconvert_exporter": "python",
   "pygments_lexer": "ipython3",
   "version": "3.7.6"
  }
 },
 "nbformat": 4,
 "nbformat_minor": 4
}
