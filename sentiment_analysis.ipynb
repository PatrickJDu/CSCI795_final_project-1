{
 "cells": [
  {
   "cell_type": "code",
   "execution_count": 292,
   "metadata": {},
   "outputs": [],
   "source": [
    "import tensorflow as tf\n",
    "import pandas as pd\n",
    "from tensorflow.keras.preprocessing.text import Tokenizer\n",
    "from tensorflow.keras.preprocessing.sequence import pad_sequences\n",
    "import matplotlib.image  as mpimg\n",
    "import matplotlib.pyplot as plt"
   ]
  },
  {
   "cell_type": "code",
   "execution_count": 293,
   "metadata": {},
   "outputs": [],
   "source": [
    "df=pd.read_csv('training_data.csv',encoding='unicode_escape')"
   ]
  },
  {
   "cell_type": "code",
   "execution_count": 294,
   "metadata": {
    "scrolled": true
   },
   "outputs": [
    {
     "data": {
      "text/html": [
       "<div>\n",
       "<style scoped>\n",
       "    .dataframe tbody tr th:only-of-type {\n",
       "        vertical-align: middle;\n",
       "    }\n",
       "\n",
       "    .dataframe tbody tr th {\n",
       "        vertical-align: top;\n",
       "    }\n",
       "\n",
       "    .dataframe thead th {\n",
       "        text-align: right;\n",
       "    }\n",
       "</style>\n",
       "<table border=\"1\" class=\"dataframe\">\n",
       "  <thead>\n",
       "    <tr style=\"text-align: right;\">\n",
       "      <th></th>\n",
       "      <th>Company</th>\n",
       "      <th>date</th>\n",
       "      <th>time</th>\n",
       "      <th>headline</th>\n",
       "      <th>Sentiment</th>\n",
       "    </tr>\n",
       "  </thead>\n",
       "  <tbody>\n",
       "    <tr>\n",
       "      <th>0</th>\n",
       "      <td>AAPL</td>\n",
       "      <td>Nov-11-20</td>\n",
       "      <td>08:00PM</td>\n",
       "      <td>Bye, Tariff Man. Bidens India Play Must Be Apps</td>\n",
       "      <td>1.0</td>\n",
       "    </tr>\n",
       "    <tr>\n",
       "      <th>1</th>\n",
       "      <td>AAPL</td>\n",
       "      <td>Nov-11-20</td>\n",
       "      <td>08:00PM</td>\n",
       "      <td>Dow Jones Stocks To Buy And Watch In November ...</td>\n",
       "      <td>1.0</td>\n",
       "    </tr>\n",
       "    <tr>\n",
       "      <th>2</th>\n",
       "      <td>AAPL</td>\n",
       "      <td>Nov-11-20</td>\n",
       "      <td>08:00PM</td>\n",
       "      <td>Stock Market Today: Big Tech Bounces Back</td>\n",
       "      <td>1.0</td>\n",
       "    </tr>\n",
       "    <tr>\n",
       "      <th>3</th>\n",
       "      <td>AAPL</td>\n",
       "      <td>Nov-11-20</td>\n",
       "      <td>08:00PM</td>\n",
       "      <td>Nasdaq Soars As Big Tech Bites Back; Dow Jones...</td>\n",
       "      <td>1.0</td>\n",
       "    </tr>\n",
       "    <tr>\n",
       "      <th>4</th>\n",
       "      <td>AAPL</td>\n",
       "      <td>Nov-11-20</td>\n",
       "      <td>08:00PM</td>\n",
       "      <td>Why Roku Stock Is Soaring Today</td>\n",
       "      <td>1.0</td>\n",
       "    </tr>\n",
       "    <tr>\n",
       "      <th>...</th>\n",
       "      <td>...</td>\n",
       "      <td>...</td>\n",
       "      <td>...</td>\n",
       "      <td>...</td>\n",
       "      <td>...</td>\n",
       "    </tr>\n",
       "    <tr>\n",
       "      <th>564</th>\n",
       "      <td>DBX</td>\n",
       "      <td>Jul-20-20</td>\n",
       "      <td>05:35PM</td>\n",
       "      <td>Why Dropbox Shot Nearly 10% Higher on Monday</td>\n",
       "      <td>1.0</td>\n",
       "    </tr>\n",
       "    <tr>\n",
       "      <th>565</th>\n",
       "      <td>DBX</td>\n",
       "      <td>Jul-20-20</td>\n",
       "      <td>05:35PM</td>\n",
       "      <td>Dropbox Shares Soar After Analyst Turns Positi...</td>\n",
       "      <td>1.0</td>\n",
       "    </tr>\n",
       "    <tr>\n",
       "      <th>566</th>\n",
       "      <td>DBX</td>\n",
       "      <td>Jul-20-20</td>\n",
       "      <td>05:35PM</td>\n",
       "      <td>Dropbox stock rises after Jefferies upgrade</td>\n",
       "      <td>1.0</td>\n",
       "    </tr>\n",
       "    <tr>\n",
       "      <th>567</th>\n",
       "      <td>DBX</td>\n",
       "      <td>Jul-08-20</td>\n",
       "      <td>03:02PM</td>\n",
       "      <td>Slack co-founder: We will be more aggressive w...</td>\n",
       "      <td>1.0</td>\n",
       "    </tr>\n",
       "    <tr>\n",
       "      <th>568</th>\n",
       "      <td>DBX</td>\n",
       "      <td>Jul-08-20</td>\n",
       "      <td>03:02PM</td>\n",
       "      <td>Why Dropbox Stock Climbed 21.6% in the First H...</td>\n",
       "      <td>1.0</td>\n",
       "    </tr>\n",
       "  </tbody>\n",
       "</table>\n",
       "<p>569 rows × 5 columns</p>\n",
       "</div>"
      ],
      "text/plain": [
       "    Company       date     time  \\\n",
       "0      AAPL  Nov-11-20  08:00PM   \n",
       "1      AAPL  Nov-11-20  08:00PM   \n",
       "2      AAPL  Nov-11-20  08:00PM   \n",
       "3      AAPL  Nov-11-20  08:00PM   \n",
       "4      AAPL  Nov-11-20  08:00PM   \n",
       "..      ...        ...      ...   \n",
       "564     DBX  Jul-20-20  05:35PM   \n",
       "565     DBX  Jul-20-20  05:35PM   \n",
       "566     DBX  Jul-20-20  05:35PM   \n",
       "567     DBX  Jul-08-20  03:02PM   \n",
       "568     DBX  Jul-08-20  03:02PM   \n",
       "\n",
       "                                              headline  Sentiment  \n",
       "0      Bye, Tariff Man. Bidens India Play Must Be Apps        1.0  \n",
       "1    Dow Jones Stocks To Buy And Watch In November ...        1.0  \n",
       "2            Stock Market Today: Big Tech Bounces Back        1.0  \n",
       "3    Nasdaq Soars As Big Tech Bites Back; Dow Jones...        1.0  \n",
       "4                      Why Roku Stock Is Soaring Today        1.0  \n",
       "..                                                 ...        ...  \n",
       "564       Why Dropbox Shot Nearly 10% Higher on Monday        1.0  \n",
       "565  Dropbox Shares Soar After Analyst Turns Positi...        1.0  \n",
       "566        Dropbox stock rises after Jefferies upgrade        1.0  \n",
       "567  Slack co-founder: We will be more aggressive w...        1.0  \n",
       "568  Why Dropbox Stock Climbed 21.6% in the First H...        1.0  \n",
       "\n",
       "[569 rows x 5 columns]"
      ]
     },
     "execution_count": 294,
     "metadata": {},
     "output_type": "execute_result"
    }
   ],
   "source": [
    "df"
   ]
  },
  {
   "cell_type": "code",
   "execution_count": 295,
   "metadata": {},
   "outputs": [],
   "source": [
    "train_data=df[['headline','Sentiment']]"
   ]
  },
  {
   "cell_type": "code",
   "execution_count": 296,
   "metadata": {},
   "outputs": [],
   "source": [
    "train_sentence=df['headline']\n",
    "train_label=df['Sentiment']"
   ]
  },
  {
   "cell_type": "code",
   "execution_count": 315,
   "metadata": {},
   "outputs": [],
   "source": [
    "from sklearn.model_selection import train_test_split\n",
    "\n",
    "X_train, X_val,y_train,y_val=train_test_split(train_sentence_3,train_label,test_size=0.2,random_state=10)"
   ]
  },
  {
   "cell_type": "code",
   "execution_count": 316,
   "metadata": {},
   "outputs": [],
   "source": [
    "max_length = 50\n",
    "\n",
    "tokenizer = Tokenizer(num_words = vocab_size, oov_token='<OOV>')\n",
    "tokenizer.fit_on_texts(X_train)\n",
    "word_index = tokenizer.word_index\n",
    "train_sequences = tokenizer.texts_to_sequences(X_train)\n",
    "train_padded = pad_sequences(train_sequences,maxlen=max_length, truncating='post')\n",
    "\n",
    "val_sequences = tokenizer.texts_to_sequences(X_val)\n",
    "val_padded = pad_sequences(val_sequences,maxlen=max_length)"
   ]
  },
  {
   "cell_type": "code",
   "execution_count": 317,
   "metadata": {},
   "outputs": [
    {
     "name": "stdout",
     "output_type": "stream",
     "text": [
      "Model: \"sequential_9\"\n",
      "_________________________________________________________________\n",
      "Layer (type)                 Output Shape              Param #   \n",
      "=================================================================\n",
      "embedding_9 (Embedding)      (None, 50, 20)            200000    \n",
      "_________________________________________________________________\n",
      "gru_14 (GRU)                 (None, 50, 128)           57600     \n",
      "_________________________________________________________________\n",
      "gru_15 (GRU)                 (None, 128)               99072     \n",
      "_________________________________________________________________\n",
      "dense_13 (Dense)             (None, 1)                 129       \n",
      "=================================================================\n",
      "Total params: 356,801\n",
      "Trainable params: 356,801\n",
      "Non-trainable params: 0\n",
      "_________________________________________________________________\n"
     ]
    }
   ],
   "source": [
    "model = tf.keras.Sequential([\n",
    "    tf.keras.layers.Embedding(10000, 20, input_length=50),\n",
    "    tf.keras.layers.GRU(128, return_sequences=True),\n",
    "    tf.keras.layers.GRU(128),\n",
    "#     tf.keras.layers.Dense(30, activation='relu'),\n",
    "    tf.keras.layers.Dense(1, activation='sigmoid')\n",
    "])\n",
    "model.compile(loss='binary_crossentropy',optimizer='adam',metrics=['accuracy'])\n",
    "model.summary()\n"
   ]
  },
  {
   "cell_type": "code",
   "execution_count": 318,
   "metadata": {},
   "outputs": [
    {
     "name": "stdout",
     "output_type": "stream",
     "text": [
      "Epoch 1/10\n",
      "15/15 [==============================] - 1s 85ms/step - loss: 0.6449 - accuracy: 0.7033 - val_loss: nan - val_accuracy: 0.7193\n",
      "Epoch 2/10\n",
      "15/15 [==============================] - 1s 44ms/step - loss: 0.6020 - accuracy: 0.6967 - val_loss: nan - val_accuracy: 0.7193\n",
      "Epoch 3/10\n",
      "15/15 [==============================] - 1s 42ms/step - loss: 0.5438 - accuracy: 0.7033 - val_loss: nan - val_accuracy: 0.7281\n",
      "Epoch 4/10\n",
      "15/15 [==============================] - 1s 42ms/step - loss: 0.2734 - accuracy: 0.8879 - val_loss: nan - val_accuracy: 0.7018\n",
      "Epoch 5/10\n",
      "15/15 [==============================] - 1s 42ms/step - loss: 0.1279 - accuracy: 0.9560 - val_loss: nan - val_accuracy: 0.7281\n",
      "Epoch 6/10\n",
      "15/15 [==============================] - 1s 42ms/step - loss: 0.0738 - accuracy: 0.9670 - val_loss: nan - val_accuracy: 0.7632\n",
      "Epoch 7/10\n",
      "15/15 [==============================] - 1s 42ms/step - loss: 0.0517 - accuracy: 0.9802 - val_loss: nan - val_accuracy: 0.7368\n",
      "Epoch 8/10\n",
      "15/15 [==============================] - 1s 42ms/step - loss: 0.0382 - accuracy: 0.9868 - val_loss: nan - val_accuracy: 0.7632\n",
      "Epoch 9/10\n",
      "15/15 [==============================] - 1s 42ms/step - loss: 0.0424 - accuracy: 0.9868 - val_loss: nan - val_accuracy: 0.7456\n",
      "Epoch 10/10\n",
      "15/15 [==============================] - 1s 42ms/step - loss: 0.0288 - accuracy: 0.9890 - val_loss: nan - val_accuracy: 0.7632\n"
     ]
    }
   ],
   "source": [
    "history=model.fit(train_padded, y_train, epochs=10, validation_data=(val_padded, y_val))"
   ]
  },
  {
   "cell_type": "code",
   "execution_count": 319,
   "metadata": {},
   "outputs": [
    {
     "data": {
      "text/plain": [
       "Text(0.5, 1.0, 'Training and validation loss')"
      ]
     },
     "execution_count": 319,
     "metadata": {},
     "output_type": "execute_result"
    },
    {
     "data": {
      "image/png": "[encoded data removed]",
      "text/plain": [
       "<Figure size 432x288 with 1 Axes>"
      ]
     },
     "metadata": {
      "needs_background": "light"
     },
     "output_type": "display_data"
    },
    {
     "data": {
      "image/png": "[encoded data removed]",
      "text/plain": [
       "<Figure size 432x288 with 1 Axes>"
      ]
     },
     "metadata": {
      "needs_background": "light"
     },
     "output_type": "display_data"
    }
   ],
   "source": [
    "# PLOT LOSS AND ACCURACY\n",
    "%matplotlib inline\n",
    "\n",
    "acc=history.history['accuracy']\n",
    "val_acc=history.history['val_accuracy']\n",
    "loss=history.history['loss']\n",
    "val_loss=history.history['val_loss']\n",
    "\n",
    "epochs=range(len(acc)) # Get number of epochs\n",
    "\n",
    "\n",
    "plt.plot(epochs, acc, 'r', \"Training Accuracy\")\n",
    "plt.plot(epochs, val_acc, 'b', \"Validation Accuracy\")\n",
    "plt.title('Training and validation accuracy')\n",
    "plt.figure()\n",
    "\n",
    "\n",
    "plt.plot(epochs, loss, 'r', \"Training Loss\")\n",
    "plt.plot(epochs, val_loss, 'b', \"Validation Loss\")\n",
    "\n",
    "\n",
    "plt.title('Training and validation loss')"
   ]
  }
 ],
 "metadata": {
  "kernelspec": {
   "display_name": "Python 3",
   "language": "python",
   "name": "python3"
  },
  "language_info": {
   "codemirror_mode": {
    "name": "ipython",
    "version": 3
   },
   "file_extension": ".py",
   "mimetype": "text/x-python",
   "name": "python",
   "nbconvert_exporter": "python",
   "pygments_lexer": "ipython3",
   "version": "3.7.6"
  }
 },
 "nbformat": 4,
 "nbformat_minor": 4
}
