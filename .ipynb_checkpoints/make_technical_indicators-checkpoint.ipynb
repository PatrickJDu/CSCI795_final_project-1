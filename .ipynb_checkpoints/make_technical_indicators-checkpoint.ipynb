{
 "cells": [
  {
   "cell_type": "code",
   "execution_count": 1,
   "metadata": {},
   "outputs": [],
   "source": [
    "import pandas as pd\n",
    "import math\n",
    "import numpy as np"
   ]
  },
  {
   "cell_type": "code",
   "execution_count": 2,
   "metadata": {},
   "outputs": [],
   "source": [
    "df=pd.read_csv('AMD.csv')"
   ]
  },
  {
   "cell_type": "code",
   "execution_count": 3,
   "metadata": {},
   "outputs": [],
   "source": [
    "df['H-L']=df['High']-df['Low']"
   ]
  },
  {
   "cell_type": "code",
   "execution_count": 4,
   "metadata": {},
   "outputs": [],
   "source": [
    "df['O-C']=df['Close']-df['Open']"
   ]
  },
  {
   "cell_type": "code",
   "execution_count": 5,
   "metadata": {},
   "outputs": [],
   "source": [
    "df['H-O']=df['High']-df['Open']"
   ]
  },
  {
   "cell_type": "code",
   "execution_count": 6,
   "metadata": {},
   "outputs": [],
   "source": [
    "df['O-L']=df['Open']-df['Low']"
   ]
  },
  {
   "cell_type": "code",
   "execution_count": 7,
   "metadata": {},
   "outputs": [],
   "source": [
    "#Psychological Line\n",
    "def PSY(dataset,days):\n",
    "\n",
    "    df['Change'] = df['Close'].diff()\n",
    "    df['Change'] = df['Change'].fillna(0)\n",
    "    dataset=df\n",
    "    n=days\n",
    "    dataset['{} DAYS PSY'.format(n)]=0\n",
    "    dataset['tmp']=0\n",
    "    dataset.loc[dataset['Change'] > 0, 'tmp'] = 1\n",
    "    for i in range(len(dataset)):\n",
    "        dataset['{} DAYS PSY'.format(n)].iloc[i]=(dataset['tmp'].iloc[i+1-n:i+1].sum()/n)*100\n",
    "    dataset.drop(['Change','tmp'], axis=1,inplace=True)"
   ]
  },
  {
   "cell_type": "code",
   "execution_count": 8,
   "metadata": {},
   "outputs": [
    {
     "name": "stderr",
     "output_type": "stream",
     "text": [
      "C:\\Users\\Yao\\AppData\\Roaming\\Python\\Python37\\site-packages\\pandas\\core\\indexing.py:670: SettingWithCopyWarning: \n",
      "A value is trying to be set on a copy of a slice from a DataFrame\n",
      "\n",
      "See the caveats in the documentation: https://pandas.pydata.org/pandas-docs/stable/user_guide/indexing.html#returning-a-view-versus-a-copy\n",
      "  iloc._setitem_with_indexer(indexer, value)\n"
     ]
    }
   ],
   "source": [
    "PSY(df,6)"
   ]
  },
  {
   "cell_type": "code",
   "execution_count": 9,
   "metadata": {},
   "outputs": [],
   "source": [
    "#Aroon (AR)\n",
    "def AR(dataset,days):\n",
    "    n=days\n",
    "    dataset['{} DAYS AR'.format(n)]=0\n",
    "    for i in range(len(dataset)):\n",
    "        dataset['{} DAYS AR'.format(n)].iloc[i]=dataset['H-O'].iloc[i+1-n:i+1].sum()/dataset['O-L'].iloc[i+1-n:i+1].sum()\n",
    "    df['{} DAYS AR'.format(n)] = df['{} DAYS AR'.format(n)].fillna(0)"
   ]
  },
  {
   "cell_type": "code",
   "execution_count": 10,
   "metadata": {},
   "outputs": [
    {
     "name": "stderr",
     "output_type": "stream",
     "text": [
      "C:\\Users\\Yao\\AppData\\Roaming\\Python\\Python37\\site-packages\\ipykernel_launcher.py:7: RuntimeWarning: invalid value encountered in double_scalars\n",
      "  import sys\n"
     ]
    }
   ],
   "source": [
    "AR(df,24)"
   ]
  },
  {
   "cell_type": "code",
   "execution_count": 20,
   "metadata": {},
   "outputs": [],
   "source": [
    "#BR\n",
    "def BR(dataset,days):\n",
    "    #create two col for cal BR\n",
    "    dataset['dif_High_previousClose']=0\n",
    "    dataset['dif_previousClose_Low']=0\n",
    "    for i in range(len(dataset)):\n",
    "        dataset['dif_High_previousClose'].iloc[i]=dataset['High'].iloc[i]-dataset['Close'].iloc[i-1]\n",
    "        dataset['dif_previousClose_Low'].iloc[i]=dataset['Close'].iloc[i-1]-dataset['Low'].iloc[i]\n",
    "    dataset['dif_High_previousClose'].iloc[0]=0\n",
    "    dataset['dif_previousClose_Low'].iloc[0]=0\n",
    "    \n",
    "    #BR\n",
    "    n=days\n",
    "    dataset['{} DAYS BR'.format(n)]=0\n",
    "    for i in range(len(dataset)):\n",
    "        dataset['{} DAYS BR'.format(n)].iloc[i]=dataset['dif_High_previousClose'].iloc[i+1-n:i+1].sum()/dataset['dif_previousClose_Low'].iloc[i+1-n:i+1].sum()\n",
    "    df['{} DAYS BR'.format(n)] = df['{} DAYS BR'.format(n)].fillna(0)\n",
    "    dataset.drop(['dif_High_previousClose','dif_previousClose_Low'], axis=1,inplace=True)"
   ]
  },
  {
   "cell_type": "code",
   "execution_count": 21,
   "metadata": {},
   "outputs": [
    {
     "name": "stderr",
     "output_type": "stream",
     "text": [
      "C:\\Users\\Yao\\AppData\\Roaming\\Python\\Python37\\site-packages\\ipykernel_launcher.py:17: RuntimeWarning: invalid value encountered in double_scalars\n",
      "C:\\Users\\Yao\\AppData\\Roaming\\Python\\Python37\\site-packages\\ipykernel_launcher.py:17: RuntimeWarning: divide by zero encountered in double_scalars\n"
     ]
    }
   ],
   "source": [
    "BR(df,5)"
   ]
  },
  {
   "cell_type": "code",
   "execution_count": 30,
   "metadata": {},
   "outputs": [],
   "source": [
    "#Williams rate (WMS)\n",
    "def WMS(dataset,days):\n",
    "    n=days\n",
    "    dataset['{} DAYS WMS'.format(n)]=0\n",
    "    for i in range(len(dataset)):\n",
    "        nHigh = dataset['High'].iloc[i+1-n:i+1].max()\n",
    "        nLow = dataset['Low'].iloc[i+1-n:i+1].min()\n",
    "        dataset['{} DAYS WMS'.format(n)].iloc[i]=(nHigh-dataset['Close'].iloc[i])/(nHigh-nLow)*100\n",
    "    df['{} DAYS WMS'.format(n)] = df['{} DAYS WMS'.format(n)].fillna(0)\n"
   ]
  },
  {
   "cell_type": "code",
   "execution_count": 31,
   "metadata": {},
   "outputs": [
    {
     "name": "stderr",
     "output_type": "stream",
     "text": [
      "C:\\Users\\Yao\\AppData\\Roaming\\Python\\Python37\\site-packages\\pandas\\core\\indexing.py:670: SettingWithCopyWarning: \n",
      "A value is trying to be set on a copy of a slice from a DataFrame\n",
      "\n",
      "See the caveats in the documentation: https://pandas.pydata.org/pandas-docs/stable/user_guide/indexing.html#returning-a-view-versus-a-copy\n",
      "  iloc._setitem_with_indexer(indexer, value)\n"
     ]
    }
   ],
   "source": [
    "WMS(df,6)"
   ]
  },
  {
   "cell_type": "code",
   "execution_count": 44,
   "metadata": {},
   "outputs": [],
   "source": [
    "#On balance volume (OBV)\n",
    "# def OBV(dataset):\n",
    "#     temp = 0\n",
    "#     dataset['OBV']=0\n",
    "#     for i in range(len(dataset)):\n",
    "#         if(dataset['Close'].iloc[i]>dataset['Close'].iloc[i-1]):\n",
    "#             temp = dataset['Volume'].iloc[i]\n",
    "#         elif(dataset['Close'].iloc[i]==dataset['Close'].iloc[i-1]):\n",
    "#             temp = 0\n",
    "#         else:\n",
    "#             temp= -dataset['Volume'].iloc[i]\n",
    "#         dataset['OBV'].iloc[i]=  dataset['OBV'].iloc[i-1] + temp"
   ]
  },
  {
   "cell_type": "code",
   "execution_count": 45,
   "metadata": {},
   "outputs": [
    {
     "name": "stderr",
     "output_type": "stream",
     "text": [
      "C:\\Users\\Yao\\AppData\\Roaming\\Python\\Python37\\site-packages\\pandas\\core\\indexing.py:670: SettingWithCopyWarning: \n",
      "A value is trying to be set on a copy of a slice from a DataFrame\n",
      "\n",
      "See the caveats in the documentation: https://pandas.pydata.org/pandas-docs/stable/user_guide/indexing.html#returning-a-view-versus-a-copy\n",
      "  iloc._setitem_with_indexer(indexer, value)\n"
     ]
    }
   ],
   "source": [
    "# OBV(df)"
   ]
  },
  {
   "cell_type": "code",
   "execution_count": null,
   "metadata": {},
   "outputs": [],
   "source": []
  }
 ],
 "metadata": {
  "kernelspec": {
   "display_name": "Python 3",
   "language": "python",
   "name": "python3"
  },
  "language_info": {
   "codemirror_mode": {
    "name": "ipython",
    "version": 3
   },
   "file_extension": ".py",
   "mimetype": "text/x-python",
   "name": "python",
   "nbconvert_exporter": "python",
   "pygments_lexer": "ipython3",
   "version": "3.7.6"
  }
 },
 "nbformat": 4,
 "nbformat_minor": 4
}
